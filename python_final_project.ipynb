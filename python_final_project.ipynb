{
  "cells": [
    {
      "cell_type": "markdown",
      "metadata": {
        "id": "8X9UiWroS006"
      },
      "source": [
        "```\n",
        "Student-1\n",
        "Name: Md Sohanul Haque\n",
        "ID# 20-44076-2\n",
        "```\n",
        "\n",
        "```\n",
        "Student-2\n",
        "Name: Sakibur Rahman\n",
        "ID# 21-44964-2\n",
        "```"
      ]
    },
    {
      "cell_type": "markdown",
      "metadata": {
        "id": "_6BgKVmW33zY"
      },
      "source": [
        "\n",
        "\n",
        "*   Mount your google drive.\n",
        "\n"
      ]
    },
    {
      "cell_type": "code",
      "execution_count": 1,
      "metadata": {
        "id": "hCe14AL95HJg"
      },
      "outputs": [],
      "source": []
    },
    {
      "cell_type": "markdown",
      "metadata": {
        "id": "UPmu3D0D4ATq"
      },
      "source": [
        "\n",
        "\n",
        "*   Import necessary libraries.\n",
        "\n"
      ]
    },
    {
      "cell_type": "code",
      "execution_count": 2,
      "metadata": {
        "id": "AIJ_9jfN-nHz"
      },
      "outputs": [],
      "source": [
        "import pandas as pd\n",
        "import matplotlib.pyplot as plt\n",
        "from sklearn.model_selection import train_test_split\n",
        "from sklearn.preprocessing import StandardScaler\n",
        "from sklearn.naive_bayes import GaussianNB\n",
        "from sklearn.metrics import confusion_matrix\n",
        "from sklearn.model_selection import cross_val_score"
      ]
    },
    {
      "cell_type": "markdown",
      "metadata": {
        "id": "GzuiaVZWTk14"
      },
      "source": [
        "•\t**Task 1:** Read/Load the dataset file in your program. Use Pandas library to complete this task."
      ]
    },
    {
      "cell_type": "code",
      "execution_count": 7,
      "metadata": {
        "id": "ODTUUpfd5RmF"
      },
      "outputs": [],
      "source": [
        "file_path = 'Crop_Yield_Prediction.csv'\n",
        "crop_data = pd.read_csv(file_path)"
      ]
    },
    {
      "cell_type": "markdown",
      "metadata": {
        "id": "OI1NoXXRUlL1"
      },
      "source": [
        "•\t**Task 2:** Apply appropriate data cleaning techniques to the dataset. In this step, replace bad data using proper methods and do not delete any record except duplicate records. Use Pandas library to complete this task."
      ]
    },
    {
      "cell_type": "code",
      "execution_count": null,
      "metadata": {
        "id": "rOWiXMWXUml5"
      },
      "outputs": [],
      "source": [
        "crop_data.fillna(crop_data.mean(), inplace=True)\n",
        "crop_data.drop_duplicates(inplace=True)"
      ]
    },
    {
      "cell_type": "markdown",
      "metadata": {
        "id": "gE4vCOLCYbyo"
      },
      "source": [
        "•\t**Task 3:** Draw graphs to analyze the frequency distributions of the features. Use Matplotlib library to complete this task. Draw all the plots in a single figure so that all plots can be seen in one diagram (use subplot() function)."
      ]
    },
    {
      "cell_type": "code",
      "execution_count": null,
      "metadata": {
        "id": "d-7CcCKOYc2c"
      },
      "outputs": [],
      "source": [
        "plt.figure(figsize=(12, 8))\n",
        "for i, column in enumerate(crop_data.columns):\n",
        "    plt.subplot(3, 3, i+1)\n",
        "    crop_data[column].hist()\n",
        "    plt.title(column)\n",
        "plt.tight_layout()\n",
        "plt.show()"
      ]
    },
    {
      "cell_type": "markdown",
      "metadata": {
        "id": "1HpUmYugdwzX"
      },
      "source": [
        "•\t**Task 4:** Draw graphs to illustrate if there is any relationship between target column to any other columns of the dataset. Use Matplotlib library to complete this task. Also use sublot() function to show all plots in one figure."
      ]
    },
    {
      "cell_type": "code",
      "execution_count": null,
      "metadata": {
        "id": "ZHh_mz-odxxs"
      },
      "outputs": [],
      "source": [
        "plt.figure(figsize=(12, 8))\n",
        "for i, column in enumerate(crop_data.columns[:-1]):\n",
        "    plt.subplot(3, 3, i+1)\n",
        "    plt.scatter(crop_data[column], crop_data['Yield'])\n",
        "    plt.title(f\"{column} vs Yield\")\n",
        "plt.tight_layout()\n",
        "plt.show()"
      ]
    },
    {
      "cell_type": "markdown",
      "metadata": {
        "id": "Mq0z8eU8jo-_"
      },
      "source": [
        "•\t**Task 5:** Perform scaling to the features of the dataset. Remember that you will need to apply data conversion before performing scaling if it is needed."
      ]
    },
    {
      "cell_type": "code",
      "execution_count": 11,
      "metadata": {
        "id": "Pqt8yduljoe_"
      },
      "outputs": [],
      "source": [
        "scaler = StandardScaler()\n",
        "scaled_features = scaler.fit_transform(crop_data.drop(['Crop', 'Yield'], axis=1))"
      ]
    },
    {
      "cell_type": "markdown",
      "metadata": {
        "id": "Ssx_k11qnMUy"
      },
      "source": [
        "•\t**Task 6:** Split your data into two parts: Training dataset and Testing dataset. You must use the function train_test_split() to complete this task and use value 321 as the value of the random_state parameter of this function."
      ]
    },
    {
      "cell_type": "code",
      "execution_count": 12,
      "metadata": {
        "id": "j_nxcGb_nRlV"
      },
      "outputs": [],
      "source": [
        "X_train, X_test, y_train, y_test = train_test_split(scaled_features, crop_data['Yield'], test_size=0.2, random_state=321)"
      ]
    },
    {
      "cell_type": "markdown",
      "metadata": {
        "id": "IyzumDR6pFBe"
      },
      "source": [
        "•\t**Task 7:** Apply Naïve Bayes Classifier to the dataset. Build (train) your prediction model in this step."
      ]
    },
    {
      "cell_type": "code",
      "execution_count": null,
      "metadata": {
        "id": "cFGx6ugvpEtz"
      },
      "outputs": [],
      "source": [
        "nb_classifier = GaussianNB()\n",
        "nb_classifier.fit(X_train, y_train)"
      ]
    },
    {
      "cell_type": "markdown",
      "metadata": {
        "id": "xwL1AMavplXR"
      },
      "source": [
        "•\t**Taks 8:** Calculate the confusion matrix for your model. Interpret it in detail in the report."
      ]
    },
    {
      "cell_type": "code",
      "execution_count": null,
      "metadata": {
        "id": "lzf35nbXpl15"
      },
      "outputs": [],
      "source": [
        "y_pred = nb_classifier.predict(X_test)\n",
        "conf_matrix = confusion_matrix(y_test, y_pred)\n",
        "print(\"Confusion Matrix:\")\n",
        "print(conf_matrix)"
      ]
    },
    {
      "cell_type": "markdown",
      "metadata": {
        "id": "Uqa2g81Fp_yS"
      },
      "source": [
        "•\t**Task 9:** Calculate the train and test accuracy of your model and compare them."
      ]
    },
    {
      "cell_type": "code",
      "execution_count": null,
      "metadata": {
        "id": "ETtLrQQCp_eg"
      },
      "outputs": [],
      "source": [
        "train_accuracy = nb_classifier.score(X_train, y_train)\n",
        "print(\"Train Accuracy:\", train_accuracy)\n",
        "test_accuracy = nb_classifier.score(X_test, y_test)\n",
        "print(\"Test Accuracy:\", test_accuracy)"
      ]
    },
    {
      "cell_type": "markdown",
      "metadata": {
        "id": "smIgRP-_qbiy"
      },
      "source": [
        "•\t**Task 10:** Show how 10-fold cross validation can be used to build a naïve bayes classifier and report the accuracy of this model."
      ]
    },
    {
      "cell_type": "code",
      "execution_count": null,
      "metadata": {
        "id": "bSLbsTcGqbVx"
      },
      "outputs": [],
      "source": [
        "cv_scores = cross_val_score(nb_classifier, scaled_features, crop_data['Yield'], cv=10)\n",
        "print(\"Cross Validation Scores:\", cv_scores)\n",
        "print(\"Mean CV Accuracy:\", cv_scores.mean())"
      ]
    }
  ],
  "metadata": {
    "colab": {
      "provenance": []
    },
    "kernelspec": {
      "display_name": "Python 3",
      "name": "python3"
    },
    "language_info": {
      "codemirror_mode": {
        "name": "ipython",
        "version": 3
      },
      "file_extension": ".py",
      "mimetype": "text/x-python",
      "name": "python",
      "nbconvert_exporter": "python",
      "pygments_lexer": "ipython3",
      "version": "3.12.1"
    }
  },
  "nbformat": 4,
  "nbformat_minor": 0
}
